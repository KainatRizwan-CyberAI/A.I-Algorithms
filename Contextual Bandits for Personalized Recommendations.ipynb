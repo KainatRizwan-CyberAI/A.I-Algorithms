{
 "cells": [
  {
   "cell_type": "code",
   "execution_count": null,
   "id": "97e871f5",
   "metadata": {},
   "outputs": [],
   "source": [
    "import numpy as np\n",
    "\n",
    "class ContextualBandit:\n",
    "    def __init__(self, n_actions):\n",
    "        self.n_actions = n_actions\n",
    "        self.action_count = np.zeros(n_actions)\n",
    "        self.total_reward = np.zeros(n_actions)\n",
    "\n",
    "    def select_action(self):\n",
    "        # Epsilon-greedy action selection\n",
    "        epsilon = 0.1\n",
    "        if np.random.rand() < epsilon:\n",
    "            return np.random.choice(self.n_actions)\n",
    "        return np.argmax(self.total_reward / (self.action_count + 1e-5))\n",
    "\n",
    "    def update(self, action, reward):\n",
    "        self.action_count[action] += 1\n",
    "        self.total_reward[action] += reward\n",
    "\n",
    "def train_bandit_model(episodes=1000):\n",
    "    n_actions = 5\n",
    "    bandit = ContextualBandit(n_actions)\n",
    "    \n",
    "    for episode in range(episodes):\n",
    "        action = bandit.select_action()\n",
    "        reward = np.random.rand()  # Simulated reward; replace with actual feedback\n",
    "        bandit.update(action, reward)\n",
    "        print(f\"Episode: {episode}, Action: {action}, Reward: {reward}\")\n",
    "\n",
    "# train_bandit_model()"
   ]
  }
 ],
 "metadata": {
  "kernelspec": {
   "display_name": "Python 3 (ipykernel)",
   "language": "python",
   "name": "python3"
  },
  "language_info": {
   "codemirror_mode": {
    "name": "ipython",
    "version": 3
   },
   "file_extension": ".py",
   "mimetype": "text/x-python",
   "name": "python",
   "nbconvert_exporter": "python",
   "pygments_lexer": "ipython3",
   "version": "3.11.5"
  }
 },
 "nbformat": 4,
 "nbformat_minor": 5
}
