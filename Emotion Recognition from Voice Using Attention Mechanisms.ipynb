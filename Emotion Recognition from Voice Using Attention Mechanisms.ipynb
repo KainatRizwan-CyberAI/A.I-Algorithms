{
 "cells": [
  {
   "cell_type": "code",
   "execution_count": null,
   "id": "fdb6e5ce",
   "metadata": {},
   "outputs": [],
   "source": [
    "import librosa\n",
    "import numpy as np\n",
    "import tensorflow as tf\n",
    "from tensorflow.keras.models import Sequential\n",
    "from tensorflow.keras.layers import LSTM, Dense, Attention, Flatten, Input\n",
    "\n",
    "class EmotionRecognitionModel:\n",
    "    def __init__(self, input_shape):\n",
    "        self.model = self.create_model(input_shape)\n",
    "        \n",
    "    def create_model(self, input_shape):\n",
    "        inputs = Input(shape=input_shape)\n",
    "        x = LSTM(128, return_sequences=True)(inputs)\n",
    "        x = Attention()([x, x])\n",
    "        x = Flatten()(x)\n",
    "        x = Dense(64, activation='relu')(x)\n",
    "        outputs = Dense(8, activation='softmax')(x)\n",
    "        model = tf.keras.Model(inputs, outputs)\n",
    "        model.compile(optimizer='adam', loss='categorical_crossentropy', metrics=['accuracy'])\n",
    "        return model\n",
    "\n",
    "    def extract_features(self, file_path):\n",
    "        y, sr = librosa.load(file_path)\n",
    "        mfccs = librosa.feature.mfcc(y=y, sr=sr, n_mfcc=40)\n",
    "        return np.mean(mfccs.T, axis=0)\n",
    "\n",
    "    def train(self, audio_files, labels):\n",
    "        features = np.array([self.extract_features(file) for file in audio_files])\n",
    "        self.model.fit(features, labels, epochs=50, batch_size=32)\n",
    "\n",
    "audio_files = ['audio1.wav', 'audio2.wav']  # Paths to audio files\n",
    "labels = np.array([[1, 0, 0, 0, 0, 0, 0, 0], [0, 1, 0, 0, 0, 0, 0, 0]])  # One-hot encoded labels\n",
    "emotion_model = EmotionRecognitionModel(input_shape=(None, 40))\n",
    "emotion_model.train(audio_files, labels)"
   ]
  }
 ],
 "metadata": {
  "kernelspec": {
   "display_name": "Python 3 (ipykernel)",
   "language": "python",
   "name": "python3"
  },
  "language_info": {
   "codemirror_mode": {
    "name": "ipython",
    "version": 3
   },
   "file_extension": ".py",
   "mimetype": "text/x-python",
   "name": "python",
   "nbconvert_exporter": "python",
   "pygments_lexer": "ipython3",
   "version": "3.11.5"
  }
 },
 "nbformat": 4,
 "nbformat_minor": 5
}
