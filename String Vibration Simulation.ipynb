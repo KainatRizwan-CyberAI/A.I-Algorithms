{
 "cells": [
  {
   "cell_type": "code",
   "execution_count": null,
   "id": "d94f95f4",
   "metadata": {},
   "outputs": [],
   "source": [
    "import numpy as np\n",
    "import matplotlib.pyplot as plt\n",
    "from matplotlib.animation import FuncAnimation\n",
    "\n",
    "# Constants\n",
    "L = 10  # Length of the string\n",
    "N = 100  # Number of points along the string\n",
    "T = 100  # Tension in the string\n",
    "mu = 0.01  # Linear density\n",
    "v = np.sqrt(T / mu)  # Wave speed\n",
    "\n",
    "# Spatial discretization\n",
    "x = np.linspace(0, L, N)\n",
    "\n",
    "# Time discretization\n",
    "dt = 0.01  # Time step\n",
    "t_max = 10  # Max time for simulation\n",
    "time_steps = int(t_max / dt)\n",
    "\n",
    "# Initial displacement (wave packet)\n",
    "def initial_displacement(x, L):\n",
    "    return np.sin(np.pi * x / L)  # Fundamental mode\n",
    "\n",
    "# Velocity at time t=0 (initial velocity)\n",
    "def initial_velocity(x):\n",
    "    return np.zeros_like(x)\n",
    "\n",
    "# Initialize displacement and velocity\n",
    "u = initial_displacement(x, L)\n",
    "v = initial_velocity(x)\n",
    "\n",
    "# Prepare plot for visualization\n",
    "fig, ax = plt.subplots()\n",
    "line, = ax.plot(x, u, 'b', lw=2)\n",
    "ax.set_ylim([-1.5, 1.5])\n",
    "ax.set_xlim([0, L])\n",
    "ax.set_xlabel('Position along the string')\n",
    "ax.set_ylabel('Displacement')\n",
    "\n",
    "# Finite difference method for wave propagation (discretization of wave equation)\n",
    "def update_wave(i, u, v, dt, L, x):\n",
    "    c2 = (v * dt)**2\n",
    "    for n in range(1, len(u) - 1):\n",
    "        u_new = c2 * (u[n-1] - 2*u[n] + u[n+1]) / (x[n+1] - x[n])**2\n",
    "        v[n] += u_new\n",
    "    u += v * dt\n",
    "    line.set_ydata(u)\n",
    "    return line,\n",
    "\n",
    "# Animation\n",
    "ani = FuncAnimation(fig, update_wave, frames=range(time_steps), fargs=(u, v, dt, L, x), interval=50, blit=True)\n",
    "plt.title('Vibrating String Simulation (Fundamental Mode)')\n",
    "plt.show()"
   ]
  }
 ],
 "metadata": {
  "kernelspec": {
   "display_name": "Python 3 (ipykernel)",
   "language": "python",
   "name": "python3"
  },
  "language_info": {
   "codemirror_mode": {
    "name": "ipython",
    "version": 3
   },
   "file_extension": ".py",
   "mimetype": "text/x-python",
   "name": "python",
   "nbconvert_exporter": "python",
   "pygments_lexer": "ipython3",
   "version": "3.11.5"
  }
 },
 "nbformat": 4,
 "nbformat_minor": 5
}
