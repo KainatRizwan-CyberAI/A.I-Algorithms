{
 "cells": [
  {
   "cell_type": "code",
   "execution_count": null,
   "id": "e2665378",
   "metadata": {},
   "outputs": [],
   "source": [
    "import numpy as np\n",
    "import networkx as nx\n",
    "\n",
    "class GraphRecommendation:\n",
    "    def __init__(self, interactions):\n",
    "        self.graph = self.build_graph(interactions)\n",
    "\n",
    "    def build_graph(self, interactions):\n",
    "        G = nx.Graph()\n",
    "        for user, items in interactions.items():\n",
    "            G.add_node(user, type='user')\n",
    "            for item in items:\n",
    "                G.add_node(item, type='item')\n",
    "                G.add_edge(user, item)\n",
    "        return G\n",
    "\n",
    "    def random_walk(self, start_node, num_steps=100):\n",
    "        current_node = start_node\n",
    "        visited = [current_node]\n",
    "        for _ in range(num_steps):\n",
    "            neighbors = list(self.graph.neighbors(current_node))\n",
    "            if neighbors:\n",
    "                current_node = np.random.choice(neighbors)\n",
    "                visited.append(current_node)\n",
    "        return visited\n",
    "\n",
    "    def recommend(self, user):\n",
    "        walks = self.random_walk(user)\n",
    "        recommendations = set(walks) - {user}\n",
    "        return list(recommendations)\n",
    "\n",
    "interactions = {\n",
    "    'User1': ['Item1', 'Item2', 'Item3'],\n",
    "    'User2': ['Item2', 'Item4'],\n",
    "    'User3': ['Item1', 'Item4'],\n",
    "}\n",
    "\n",
    "recommendation_system = GraphRecommendation(interactions)\n",
    "recommendations = recommendation_system.recommend('User1')\n",
    "print(f'Recommendations for User1: {recommendations}')"
   ]
  }
 ],
 "metadata": {
  "kernelspec": {
   "display_name": "Python 3 (ipykernel)",
   "language": "python",
   "name": "python3"
  },
  "language_info": {
   "codemirror_mode": {
    "name": "ipython",
    "version": 3
   },
   "file_extension": ".py",
   "mimetype": "text/x-python",
   "name": "python",
   "nbconvert_exporter": "python",
   "pygments_lexer": "ipython3",
   "version": "3.11.5"
  }
 },
 "nbformat": 4,
 "nbformat_minor": 5
}
