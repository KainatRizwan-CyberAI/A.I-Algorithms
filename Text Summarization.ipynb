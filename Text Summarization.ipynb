{
 "cells": [
  {
   "cell_type": "code",
   "execution_count": null,
   "id": "06665ef8",
   "metadata": {},
   "outputs": [],
   "source": [
    "import numpy as np\n",
    "import nltk\n",
    "import re\n",
    "from sklearn.feature_extraction.text import TfidfVectorizer\n",
    "from sklearn.cluster import KMeans\n",
    "from nltk.tokenize import sent_tokenize\n",
    "\n",
    "# Download required NLTK data\n",
    "nltk.download('punkt')\n",
    "\n",
    "# Sample long text document\n",
    "document = \"\"\"\n",
    "Artificial intelligence (AI) is intelligence demonstrated by machines, in contrast to the natural intelligence displayed by humans and animals. Leading AI textbooks define the field as the study of \"intelligent agents\": any device that perceives its environment and takes actions that maximize its chance of successfully achieving its goals.\n",
    "Colloquially, the term \"artificial intelligence\" is often used to describe machines (or computers) that mimic \"cognitive\" functions that humans associate with the human mind, such as \"learning\" and \"problem-solving\". As machines become increasingly capable, tasks considered to require \"intelligence\" are often removed from the definition of AI, a phenomenon known as the AI effect.\n",
    "For instance, optical character recognition is frequently excluded from things considered to be AI, having become a routine technology. Modern machine capabilities generally classified as AI include successfully understanding human speech, competing at the highest level in strategic game systems (such as chess and Go), autonomously operating cars, and intelligent routing in content delivery networks and military simulations.\n",
    "AI is a multidisciplinary field with multiple approaches, but advancements in machine learning and deep learning are creating a paradigm shift in virtually every sector of the tech industry.\n",
    "\"\"\"\n",
    "\n",
    "# Preprocessing: clean and tokenize the sentences\n",
    "def preprocess_text(text):\n",
    "    text = re.sub(r'\\s+', ' ', text)  # Remove extra spaces/newlines\n",
    "    sentences = sent_tokenize(text)  # Sentence tokenization\n",
    "    return sentences\n",
    "\n",
    "# Extract sentences from the document\n",
    "sentences = preprocess_text(document)\n",
    "\n",
    "# Vectorization using TF-IDF\n",
    "vectorizer = TfidfVectorizer(stop_words='english')\n",
    "X = vectorizer.fit_transform(sentences)  # Convert sentences into TF-IDF matrix\n",
    "\n",
    "# Apply K-means clustering to group sentences into clusters\n",
    "n_clusters = int(len(sentences) / 2)  # Set the number of clusters (tune as needed)\n",
    "kmeans = KMeans(n_clusters=n_clusters, random_state=42).fit(X)\n",
    "\n",
    "# Rank sentences based on their proximity to the cluster centroid\n",
    "def rank_sentences(sentences, model, X):\n",
    "    ranked_sentences = []\n",
    "    for i in range(model.n_clusters):\n",
    "        cluster_center = model.cluster_centers_[i]\n",
    "        distances = np.linalg.norm(X.toarray() - cluster_center, axis=1)\n",
    "        ranked_sentences.append((np.argmin(distances), distances[np.argmin(distances)]))\n",
    "    ranked_sentences = sorted(ranked_sentences, key=lambda x: x[1])  # Sort by distance\n",
    "    return [sentences[idx] for idx, _ in ranked_sentences]\n",
    "\n",
    "# Generate the summary by selecting top-ranked sentences\n",
    "summary_sentences = rank_sentences(sentences, kmeans, X)\n",
    "summary = ' '.join(summary_sentences)\n",
    "\n",
    "# Output the summarized text\n",
    "print(\"Original Document:\\n\", document)\n",
    "print(\"\\nSummarized Text:\\n\", summary)"
   ]
  }
 ],
 "metadata": {
  "kernelspec": {
   "display_name": "Python 3 (ipykernel)",
   "language": "python",
   "name": "python3"
  },
  "language_info": {
   "codemirror_mode": {
    "name": "ipython",
    "version": 3
   },
   "file_extension": ".py",
   "mimetype": "text/x-python",
   "name": "python",
   "nbconvert_exporter": "python",
   "pygments_lexer": "ipython3",
   "version": "3.11.5"
  }
 },
 "nbformat": 4,
 "nbformat_minor": 5
}
