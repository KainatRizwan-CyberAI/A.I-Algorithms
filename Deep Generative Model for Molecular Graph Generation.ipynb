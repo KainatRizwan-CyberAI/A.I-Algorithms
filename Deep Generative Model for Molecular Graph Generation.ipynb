{
 "cells": [
  {
   "cell_type": "code",
   "execution_count": null,
   "id": "c34cb850",
   "metadata": {},
   "outputs": [],
   "source": [
    "import torch\n",
    "import torch.nn as nn\n",
    "import torch.optim as optim\n",
    "from rdkit import Chem\n",
    "\n",
    "class MolecularGraphGenerator(nn.Module):\n",
    "    def __init__(self, input_size, hidden_size):\n",
    "        super(MolecularGraphGenerator, self).__init__()\n",
    "        self.fc1 = nn.Linear(input_size, hidden_size)\n",
    "        self.fc2 = nn.Linear(hidden_size, input_size)\n",
    "\n",
    "    def forward(self, x):\n",
    "        x = torch.relu(self.fc1(x))\n",
    "        return torch.sigmoid(self.fc2(x))\n",
    "\n",
    "def generate_molecule(smiles):\n",
    "    mol = Chem.MolFromSmiles(smiles)\n",
    "    return mol\n",
    "\n",
    "def train_model(data, epochs=1000, learning_rate=0.001):\n",
    "    model = MolecularGraphGenerator(input_size=100, hidden_size=50)\n",
    "    optimizer = optim.Adam(model.parameters(), lr=learning_rate)\n",
    "    criterion = nn.BCELoss()\n",
    "    \n",
    "    for epoch in range(epochs):\n",
    "        for smiles in data:\n",
    "            molecule_vector = torch.rand((1, 100))  # Placeholder for actual vectorization\n",
    "            optimizer.zero_grad()\n",
    "            output = model(molecule_vector)\n",
    "            loss = criterion(output, molecule_vector)\n",
    "            loss.backward()\n",
    "            optimizer.step()\n",
    "\n",
    "smiles_data = [\"CCO\", \"CCN\", \"CCC\"]  # Example SMILES data\n",
    "train_model(smiles_data)"
   ]
  }
 ],
 "metadata": {
  "kernelspec": {
   "display_name": "Python 3 (ipykernel)",
   "language": "python",
   "name": "python3"
  },
  "language_info": {
   "codemirror_mode": {
    "name": "ipython",
    "version": 3
   },
   "file_extension": ".py",
   "mimetype": "text/x-python",
   "name": "python",
   "nbconvert_exporter": "python",
   "pygments_lexer": "ipython3",
   "version": "3.11.5"
  }
 },
 "nbformat": 4,
 "nbformat_minor": 5
}
