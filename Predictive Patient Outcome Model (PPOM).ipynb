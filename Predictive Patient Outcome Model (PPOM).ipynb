{
 "cells": [
  {
   "cell_type": "code",
   "execution_count": null,
   "id": "2c4d941e",
   "metadata": {},
   "outputs": [],
   "source": [
    "import pandas as pd\n",
    "import numpy as np\n",
    "import tensorflow as tf\n",
    "from sklearn.model_selection import train_test_split\n",
    "from sklearn.preprocessing import StandardScaler\n",
    "from sklearn.metrics import mean_squared_error, r2_score\n",
    "\n",
    "class PPOMModel(tf.keras.Model):\n",
    "    def __init__(self, input_shape):\n",
    "        super(PPOMModel, self).__init__()\n",
    "        self.dense1 = tf.keras.layers.Dense(128, activation='relu', input_shape=input_shape)\n",
    "        self.dense2 = tf.keras.layers.Dense(64, activation='relu')\n",
    "        self.output_layer = tf.keras.layers.Dense(1)  # Regression output\n",
    "\n",
    "    def call(self, x):\n",
    "        x = self.dense1(x)\n",
    "        x = self.dense2(x)\n",
    "        return self.output_layer(x)\n",
    "\n",
    "def train_ppom(data, labels, epochs=50, batch_size=32):\n",
    "    model = PPOMModel(input_shape=(data.shape[1],))\n",
    "    model.compile(optimizer='adam', loss='mean_squared_error', metrics=['mae'])\n",
    "    \n",
    "    model.fit(data, labels, epochs=epochs, batch_size=batch_size, validation_split=0.2)\n",
    "    return model\n",
    "\n",
    "def evaluate_model(model, X_test, y_test):\n",
    "    y_pred = model.predict(X_test)\n",
    "    print(\"Mean Squared Error:\", mean_squared_error(y_test, y_pred))\n",
    "    print(\"R² Score:\", r2_score(y_test, y_pred))\n",
    "\n",
    "def main():\n",
    "    # Load your dataset\n",
    "    data = pd.read_csv('patient_outcomes.csv')  # Your dataset path\n",
    "    labels = data.pop('outcome')  # Continuous labels for outcomes\n",
    "    \n",
    "    # Split data into training and testing sets\n",
    "    X_train, X_test, y_train, y_test = train_test_split(data.values, labels.values, test_size=0.2, random_state=42)\n",
    "\n",
    "    # Standardizing the features\n",
    "    scaler = StandardScaler()\n",
    "    X_train = scaler.fit_transform(X_train)\n",
    "    X_test = scaler.transform(X_test)\n",
    "\n",
    "    # Train the model\n",
    "    model = train_ppom(X_train, y_train, epochs=50, batch_size=32)\n",
    "\n",
    "    # Evaluate the model\n",
    "    evaluate_model(model, X_test, y_test)\n",
    "\n",
    "if __name__ == \"__main__\":\n",
    "    main()"
   ]
  }
 ],
 "metadata": {
  "kernelspec": {
   "display_name": "Python 3 (ipykernel)",
   "language": "python",
   "name": "python3"
  },
  "language_info": {
   "codemirror_mode": {
    "name": "ipython",
    "version": 3
   },
   "file_extension": ".py",
   "mimetype": "text/x-python",
   "name": "python",
   "nbconvert_exporter": "python",
   "pygments_lexer": "ipython3",
   "version": "3.11.5"
  }
 },
 "nbformat": 4,
 "nbformat_minor": 5
}
