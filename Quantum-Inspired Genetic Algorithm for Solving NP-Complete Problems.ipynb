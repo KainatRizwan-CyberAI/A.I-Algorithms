{
 "cells": [
  {
   "cell_type": "code",
   "execution_count": null,
   "id": "b050bec1",
   "metadata": {},
   "outputs": [],
   "source": [
    "import random\n",
    "\n",
    "class QuantumGeneticAlgorithm:\n",
    "    def __init__(self, population_size, generations, solution_size):\n",
    "        self.population_size = population_size\n",
    "        self.generations = generations\n",
    "        self.solution_size = solution_size\n",
    "        self.population = self.initialize_population()\n",
    "\n",
    "    def initialize_population(self):\n",
    "        return [[random.randint(0, 1) for _ in range(self.solution_size)] for _ in range(self.population_size)]\n",
    "\n",
    "    def fitness_function(self, solution):\n",
    "        return sum(solution)  # Maximize number of 1's\n",
    "\n",
    "    def selection(self):\n",
    "        selected = sorted(self.population, key=self.fitness_function, reverse=True)[:self.population_size // 2]\n",
    "        return selected\n",
    "\n",
    "    def crossover(self, parent1, parent2):\n",
    "        crossover_point = random.randint(1, self.solution_size - 1)\n",
    "        return parent1[:crossover_point] + parent2[crossover_point:]\n",
    "\n",
    "    def mutation(self, solution):\n",
    "        mutation_point = random.randint(0, self.solution_size - 1)\n",
    "        solution[mutation_point] = 1 - solution[mutation_point]  # Flip bit\n",
    "        return solution\n",
    "\n",
    "    def evolve(self):\n",
    "        for gen in range(self.generations):\n",
    "            selected_parents = self.selection()\n",
    "            next_generation = selected_parents.copy()\n",
    "            while len(next_generation) < self.population_size:\n",
    "                parent1, parent2 = random.sample(selected_parents, 2)\n",
    "                child = self.crossover(parent1, parent2)\n",
    "                if random.random() < 0.1:  # Mutation probability\n",
    "                    child = self.mutation(child)\n",
    "                next_generation.append(child)\n",
    "            self.population = next_generation\n",
    "\n",
    "qga = QuantumGeneticAlgorithm(population_size=100, generations=50, solution_size=10)\n",
    "qga.evolve()\n",
    "best_solution = max(qga.population, key=qga.fitness_function)\n",
    "print(f'Best solution: {best_solution}, Fitness: {qga.fitness_function(best_solution)}')"
   ]
  }
 ],
 "metadata": {
  "kernelspec": {
   "display_name": "Python 3 (ipykernel)",
   "language": "python",
   "name": "python3"
  },
  "language_info": {
   "codemirror_mode": {
    "name": "ipython",
    "version": 3
   },
   "file_extension": ".py",
   "mimetype": "text/x-python",
   "name": "python",
   "nbconvert_exporter": "python",
   "pygments_lexer": "ipython3",
   "version": "3.11.5"
  }
 },
 "nbformat": 4,
 "nbformat_minor": 5
}
