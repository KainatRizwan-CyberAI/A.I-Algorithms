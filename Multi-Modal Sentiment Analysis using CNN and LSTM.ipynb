{
 "cells": [
  {
   "cell_type": "code",
   "execution_count": null,
   "id": "965b51df",
   "metadata": {},
   "outputs": [],
   "source": [
    "import numpy as np\n",
    "import tensorflow as tf\n",
    "from tensorflow.keras import layers\n",
    "\n",
    "class MultiModalModel(tf.keras.Model):\n",
    "    def __init__(self, vocab_size, embed_dim, num_classes):\n",
    "        super(MultiModalModel, self).__init__()\n",
    "        self.text_embedding = layers.Embedding(vocab_size, embed_dim)\n",
    "        self.cnn = layers.Conv1D(128, 5, activation='relu')\n",
    "        self.lstm = layers.LSTM(128)\n",
    "        self.dense = layers.Dense(num_classes, activation='softmax')\n",
    "\n",
    "    def call(self, text_input, image_input):\n",
    "        text_embedded = self.text_embedding(text_input)\n",
    "        text_features = self.lstm(self.cnn(text_embedded))\n",
    "        # image_features = self.extract_image_features(image_input)  # Add image feature extraction\n",
    "        # combined_features = layers.Concatenate()([text_features, image_features])\n",
    "        return self.dense(text_features)\n",
    "\n",
    "def train_multi_modal_model(text_data, image_data, labels, epochs=10, batch_size=32):\n",
    "    model = MultiModalModel(vocab_size=10000, embed_dim=256, num_classes=5)\n",
    "    optimizer = tf.keras.optimizers.Adam(1e-4)\n",
    "    loss_fn = tf.keras.losses.SparseCategoricalCrossentropy()\n",
    "\n",
    "    for epoch in range(epochs):\n",
    "        for batch in range(0, len(text_data), batch_size):\n",
    "            text_batch = text_data[batch:batch + batch_size]\n",
    "            image_batch = image_data[batch:batch + batch_size]\n",
    "            label_batch = labels[batch:batch + batch_size]\n",
    "            with tf.GradientTape() as tape:\n",
    "                predictions = model(text_batch, image_batch)\n",
    "                loss = loss_fn(label_batch, predictions)\n",
    "            gradients = tape.gradient(loss, model.trainable_variables)\n",
    "            optimizer.apply_gradients(zip(gradients, model.trainable_variables))\n",
    "\n",
    "# text_data, image_data, labels = load_your_data()  # Placeholder for actual data\n",
    "# train_multi_modal_model(text_data, image_data, labels)"
   ]
  }
 ],
 "metadata": {
  "kernelspec": {
   "display_name": "Python 3 (ipykernel)",
   "language": "python",
   "name": "python3"
  },
  "language_info": {
   "codemirror_mode": {
    "name": "ipython",
    "version": 3
   },
   "file_extension": ".py",
   "mimetype": "text/x-python",
   "name": "python",
   "nbconvert_exporter": "python",
   "pygments_lexer": "ipython3",
   "version": "3.11.5"
  }
 },
 "nbformat": 4,
 "nbformat_minor": 5
}
