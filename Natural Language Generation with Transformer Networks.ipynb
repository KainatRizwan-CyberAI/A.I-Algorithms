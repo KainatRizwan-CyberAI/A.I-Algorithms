{
 "cells": [
  {
   "cell_type": "code",
   "execution_count": null,
   "id": "c7d5ad9e",
   "metadata": {},
   "outputs": [],
   "source": [
    "import tensorflow as tf\n",
    "from tensorflow.keras import layers\n",
    "\n",
    "class TransformerBlock(tf.keras.Model):\n",
    "    def __init__(self, embed_dim, num_heads, ff_dim):\n",
    "        super(TransformerBlock, self).__init__()\n",
    "        self.attention = layers.MultiHeadAttention(num_heads=num_heads, key_dim=embed_dim)\n",
    "        self.ffn = tf.keras.Sequential([\n",
    "            layers.Dense(ff_dim, activation='relu'),\n",
    "            layers.Dense(embed_dim)\n",
    "        ])\n",
    "        self.layernorm1 = layers.LayerNormalization(epsilon=1e-6)\n",
    "        self.layernorm2 = layers.LayerNormalization(epsilon=1e-6)\n",
    "\n",
    "    def call(self, inputs):\n",
    "        attn_output = self.attention(inputs, inputs)\n",
    "        out1 = self.layernorm1(inputs + attn_output)\n",
    "        ffn_output = self.ffn(out1)\n",
    "        return self.layernorm2(out1 + ffn_output)\n",
    "\n",
    "class Transformer(tf.keras.Model):\n",
    "    def __init__(self, num_layers, embed_dim, num_heads, ff_dim):\n",
    "        super(Transformer, self).__init__()\n",
    "        self.enc_layers = [TransformerBlock(embed_dim, num_heads, ff_dim) for _ in range(num_layers)]\n",
    "        self.final_layer = layers.Dense(vocab_size)\n",
    "\n",
    "    def call(self, x):\n",
    "        for layer in self.enc_layers:\n",
    "            x = layer(x)\n",
    "        return self.final_layer(x)\n",
    "\n",
    "def train_transformer(data, epochs=10, batch_size=64):\n",
    "    transformer = Transformer(num_layers=4, embed_dim=256, num_heads=8, ff_dim=512)\n",
    "    optimizer = tf.keras.optimizers.Adam(1e-4)\n",
    "    loss_fn = tf.keras.losses.SparseCategoricalCrossentropy(from_logits=True)\n",
    "\n",
    "    for epoch in range(epochs):\n",
    "        for batch in range(0, len(data), batch_size):\n",
    "            batch_data = data[batch:batch + batch_size]\n",
    "            with tf.GradientTape() as tape:\n",
    "                predictions = transformer(batch_data)\n",
    "                loss = loss_fn(batch_data[:, 1:], predictions[:, :-1, :])\n",
    "            gradients = tape.gradient(loss, transformer.trainable_variables)\n",
    "            optimizer.apply_gradients(zip(gradients, transformer.trainable_variables))\n",
    "\n",
    "# data = load_your_data()  # Placeholder for actual text data\n",
    "# train_transformer(data)"
   ]
  }
 ],
 "metadata": {
  "kernelspec": {
   "display_name": "Python 3 (ipykernel)",
   "language": "python",
   "name": "python3"
  },
  "language_info": {
   "codemirror_mode": {
    "name": "ipython",
    "version": 3
   },
   "file_extension": ".py",
   "mimetype": "text/x-python",
   "name": "python",
   "nbconvert_exporter": "python",
   "pygments_lexer": "ipython3",
   "version": "3.11.5"
  }
 },
 "nbformat": 4,
 "nbformat_minor": 5
}
