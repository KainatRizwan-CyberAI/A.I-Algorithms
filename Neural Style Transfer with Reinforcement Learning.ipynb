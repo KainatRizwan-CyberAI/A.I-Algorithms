{
 "cells": [
  {
   "cell_type": "code",
   "execution_count": null,
   "id": "182116b2",
   "metadata": {},
   "outputs": [],
   "source": [
    "import numpy as np\n",
    "import tensorflow as tf\n",
    "from tensorflow.keras.applications import vgg19\n",
    "from tensorflow.keras.preprocessing.image import load_img, img_to_array\n",
    "from tensorflow.keras import Model, backend as K\n",
    "\n",
    "class NeuralStyleTransfer:\n",
    "    def __init__(self, content_image_path, style_image_path, learning_rate=0.01):\n",
    "        self.content_image = self.load_and_preprocess_image(content_image_path)\n",
    "        self.style_image = self.load_and_preprocess_image(style_image_path)\n",
    "        self.generated_image = tf.Variable(self.content_image, dtype=tf.float32)\n",
    "        self.learning_rate = learning_rate\n",
    "        self.model = self.build_model()\n",
    "\n",
    "    def load_and_preprocess_image(self, path):\n",
    "        img = load_img(path, target_size=(224, 224))\n",
    "        img = img_to_array(img)\n",
    "        img = np.expand_dims(img, axis=0)\n",
    "        img = vgg19.preprocess_input(img)\n",
    "        return img\n",
    "\n",
    "    def build_model(self):\n",
    "        base_model = vgg19.VGG19(weights='imagenet', include_top=False)\n",
    "        outputs = [base_model.get_layer(name).output for name in ['block5_conv2', 'block4_conv2']]\n",
    "        return Model(inputs=base_model.input, outputs=outputs)\n",
    "\n",
    "    def compute_loss(self):\n",
    "        style_features = self.model(self.style_image)\n",
    "        content_features = self.model(self.content_image)\n",
    "        generated_features = self.model(self.generated_image)\n",
    "\n",
    "        content_loss = K.sum(K.square(content_features[0] - generated_features[0]))\n",
    "        style_loss = K.sum(K.square(style_features[0] - generated_features[1]))  # Simplified for one layer\n",
    "\n",
    "        total_loss = content_loss + 0.01 * style_loss  # Weighting factor\n",
    "        return total_loss\n",
    "\n",
    "    def optimize(self, iterations=100):\n",
    "        optimizer = tf.optimizers.Adam(learning_rate=self.learning_rate)\n",
    "        for i in range(iterations):\n",
    "            with tf.GradientTape() as tape:\n",
    "                loss = self.compute_loss()\n",
    "            grads = tape.gradient(loss, self.generated_image)\n",
    "            optimizer.apply_gradients([(grads, self.generated_image)])\n",
    "            if i % 10 == 0:\n",
    "                print(f'Iteration {i}, Loss: {loss.numpy()}')\n",
    "        return self.generated_image\n",
    "\n",
    "nst = NeuralStyleTransfer('content.jpg', 'style.jpg')\n",
    "output_image = nst.optimize()\n",
    "output_image = tf.clip_by_value(output_image, 0, 255).numpy().astype('uint8')[0]\n",
    "plt.imshow(output_image)\n",
    "plt.axis('off')\n",
    "plt.show()"
   ]
  }
 ],
 "metadata": {
  "kernelspec": {
   "display_name": "Python 3 (ipykernel)",
   "language": "python",
   "name": "python3"
  },
  "language_info": {
   "codemirror_mode": {
    "name": "ipython",
    "version": 3
   },
   "file_extension": ".py",
   "mimetype": "text/x-python",
   "name": "python",
   "nbconvert_exporter": "python",
   "pygments_lexer": "ipython3",
   "version": "3.11.5"
  }
 },
 "nbformat": 4,
 "nbformat_minor": 5
}
